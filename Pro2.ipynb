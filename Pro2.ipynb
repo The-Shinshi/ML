{
 "cells": [
  {
   "cell_type": "code",
   "execution_count": null,
   "metadata": {},
   "outputs": [],
   "source": [
    "import numpy as np\n",
    "import pandas as pd\n",
    "import matplotlib.pyplot as plt\n",
    "import seaborn as sns\n",
    "from sklearn.datasets import fetch_california_housing\n",
    "data = fetch_california_housing()\n",
    "df = pd.DataFrame(data.data, columns=data.feature_names)\n",
    "df['Target'] = data.target"
   ]
  },
  {
   "cell_type": "code",
   "execution_count": null,
   "metadata": {},
   "outputs": [],
   "source": [
    "variable_meaning = {\n",
    "    \"MedInc\": \"Median income in block group\",\n",
    "    \"HouseAge\": \"Median house age in block group\",\n",
    "    \"AveRooms\": \"Average number of rooms per household\",\n",
    "    \"AveBedrms\": \"Average number of bedrooms per household\",\n",
    "    \"Population\": \"Population of block group\",\n",
    "    \"AveOccup\": \"Average number of household members\",\n",
    "    \"Latitude\": \"Latitude of block group\",\n",
    "    \"Longitude\": \"Longitude of block group\",\n",
    "    \"Target\": \"Median house value (in $100,000s)\"\n",
    "}\n",
    "\n",
    "variable_df = pd.DataFrame(list(variable_meaning.items()), columns=[\"Feature\", \"Description\"])\n",
    "print(\"\\nVariable Meaning Table:\")\n",
    "print(variable_df)"
   ]
  },
  {
   "cell_type": "code",
   "execution_count": null,
   "metadata": {},
   "outputs": [],
   "source": [
    "print(\"\\nBasic Information about Dataset:\")\n",
    "print(df.info())\n",
    "print(\"\\nFirst Five Rows of Dataset:\")\n",
    "print(df.head())"
   ]
  },
  {
   "cell_type": "code",
   "execution_count": null,
   "metadata": {},
   "outputs": [],
   "source": [
    "print(\"\\nSummary Statistics:\")\n",
    "print(df.describe())"
   ]
  },
  {
   "cell_type": "code",
   "execution_count": null,
   "metadata": {},
   "outputs": [],
   "source": [
    "summary_explanation = \"\"\"\n",
    "The summary statistics table provides key percentiles and other descriptive metrics for each numerical feature:\n",
    "- **25% (First Quartile - Q1):** This represents the value below which 25% of the data falls. It helps in understanding the lower bound of typical data values.\n",
    "- **50% (Median - Q2):** This is the middle value when the data is sorted. It provides the central tendency of the dataset.\n",
    "- **75% (Third Quartile - Q3):** This represents the value below which 75% of the data falls. It helps in identifying the upper bound of typical values in the dataset.\n",
    "- These percentiles are useful for detecting skewness, data distribution, and identifying potential outliers (values beyond Q1 - 1.5*IQR or Q3 + 1.5*IQR).\n",
    "\"\"\"\n",
    "print(\"\\nSummary Statistics Explanation:\")\n",
    "print(summary_explanation)"
   ]
  },
  {
   "cell_type": "code",
   "execution_count": null,
   "metadata": {},
   "outputs": [],
   "source": [
    "print(\"\\nMissing Values in Each Column:\")\n",
    "print(df.isnull().sum())"
   ]
  },
  {
   "cell_type": "code",
   "execution_count": null,
   "metadata": {},
   "outputs": [],
   "source": [
    "plt.figure(figsize=(12, 8))\n",
    "df.hist(figsize=(12, 8), bins=30, edgecolor='black')\n",
    "plt.suptitle(\"Feature Distributions\", fontsize=16)\n",
    "plt.show()"
   ]
  },
  {
   "cell_type": "code",
   "execution_count": null,
   "metadata": {},
   "outputs": [],
   "source": [
    "plt.figure(figsize=(12, 6))\n",
    "sns.boxplot(data=df)\n",
    "plt.xticks(rotation=45)\n",
    "plt.title(\"Boxplots of Features to Identify Outliers\")\n",
    "plt.show()"
   ]
  },
  {
   "cell_type": "code",
   "execution_count": null,
   "metadata": {},
   "outputs": [],
   "source": [
    "plt.figure(figsize=(10, 6))\n",
    "corr_matrix = df.corr()\n",
    "sns.heatmap(corr_matrix, annot=True, cmap='coolwarm', fmt='.2f')\n",
    "plt.title(\"Feature Correlation Heatmap\")\n",
    "plt.show()"
   ]
  },
  {
   "cell_type": "code",
   "execution_count": null,
   "metadata": {},
   "outputs": [],
   "source": [
    "sns.pairplot(df[['MedInc', 'HouseAge', 'AveRooms', 'Target']], diag_kind='kde')\n",
    "plt.show()\n",
    "\n",
    "print(\"\\nKey Insights:\")\n",
    "print(\"1. The dataset has\", df.shape[0], \"rows and\", df.shape[1], \"columns.\")\n",
    "print(\"2. No missing values were found in the dataset.\")\n",
    "print(\"3. Histograms show skewed distributions in some features like 'MedInc'.\")\n",
    "print(\"4. Boxplots indicate potential outliers in 'AveRooms' and 'AveOccup'.\")\n",
    "print(\"5. Correlation heatmap shows 'MedInc' has the highest correlation with house prices.\")"
   ]
  }
 ],
 "metadata": {
  "kernelspec": {
   "display_name": "Python 3",
   "language": "python",
   "name": "python3"
  },
  "language_info": {
   "codemirror_mode": {
    "name": "ipython",
    "version": 3
   },
   "file_extension": ".py",
   "mimetype": "text/x-python",
   "name": "python",
   "nbconvert_exporter": "python",
   "pygments_lexer": "ipython3",
   "version": "3.12.7"
  }
 },
 "nbformat": 4,
 "nbformat_minor": 4
}
