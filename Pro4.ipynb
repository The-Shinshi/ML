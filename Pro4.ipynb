{
  "cells": [
    {
      "cell_type": "code",
      "execution_count": null,
      "metadata": {
        "id": "3ConrWQ6RB3C"
      },
      "outputs": [],
      "source": [
        "import pandas as pd\n",
        "data = pd.read_csv(\"Dataset.csv\")"
      ]
    },
    {
      "cell_type": "code",
      "execution_count": null,
      "metadata": {
        "id": "hr6gr8l3RjP5"
      },
      "outputs": [],
      "source": [
        "print(data)"
      ]
    },
    {
      "cell_type": "code",
      "execution_count": null,
      "metadata": {
        "id": "v-pERkOURmIT"
      },
      "outputs": [],
      "source": [
        "def find_s_algorithm(data):\n",
        " \"\"\"Implements the Find-S algorithm to find the most specific hypothesis.\"\"\"\n",
        " # Extract feature columns and target column\n",
        " attributes = data.iloc[:, :-1].values # All columns except last\n",
        " target = data.iloc[:, -1].values # Last column (class labels)\n",
        "\n",
        " # Step 1: Initialize hypothesis with first positive example\n",
        " for i in range(len(target)):\n",
        "    if target[i] == \"Yes\": # Consider only positive examples\n",
        "        hypothesis = attributes[i].copy()\n",
        "    break\n",
        "\n",
        " # Step 2: Update hypothesis based on other positive examples\n",
        " for i in range(len(target)):\n",
        "    if target[i] == \"Yes\":\n",
        "        for j in range(len(hypothesis)):\n",
        "            if hypothesis[j] != attributes[i][j]:\n",
        "                hypothesis[j] = '?' # Generalize inconsistent attributes\n",
        "\n",
        " return hypothesis\n",
        "# Run Find-S Algorithm\n",
        "final_hypothesis = find_s_algorithm(data)\n",
        "# Print the learned hypothesis\n",
        "print(\"Most Specific Hypothesis:\", final_hypothesis)"
      ]
    }
  ],
  "metadata": {
    "colab": {
      "provenance": []
    },
    "kernelspec": {
      "display_name": "Python 3",
      "name": "python3"
    },
    "language_info": {
      "codemirror_mode": {
        "name": "ipython",
        "version": 3
      },
      "file_extension": ".py",
      "mimetype": "text/x-python",
      "name": "python",
      "nbconvert_exporter": "python",
      "pygments_lexer": "ipython3",
      "version": "3.12.7"
    }
  },
  "nbformat": 4,
  "nbformat_minor": 0
}
