{
  "cells": [
    {
      "cell_type": "code",
      "execution_count": null,
      "metadata": {
        "id": "3ConrWQ6RB3C"
      },
      "outputs": [],
      "source": [
        "import numpy as np\n",
        "import pandas as pd\n",
        "import matplotlib.pyplot as plt\n",
        "import seaborn as sns\n",
        "from sklearn.model_selection import train_test_split\n",
        "from sklearn.neighbors import KNeighborsClassifier\n",
        "from sklearn.metrics import accuracy_score\n",
        "import warnings\n",
        "warnings.filterwarnings('ignore')"
      ]
    },
    {
      "cell_type": "code",
      "execution_count": null,
      "metadata": {
        "id": "hr6gr8l3RjP5"
      },
      "outputs": [],
      "source": [
        "# Step 1: Generate dataset\n",
        "np.random.seed(42)\n",
        "values = np.random.rand(100)"
      ]
    },
    {
      "cell_type": "code",
      "execution_count": null,
      "metadata": {
        "id": "v-pERkOURmIT"
      },
      "outputs": [],
      "source": [
        "labels = []\n",
        "for i in values[:50]:\n",
        " if i <=0.5:\n",
        "  labels.append('Class1')\n",
        " else:\n",
        "  labels.append('Class2')"
      ]
    },
    {
      "cell_type": "code",
      "execution_count": null,
      "metadata": {
        "id": "SvkNRv71R5oS"
      },
      "outputs": [],
      "source": [
        "labels += [None] * 50"
      ]
    },
    {
      "cell_type": "code",
      "execution_count": null,
      "metadata": {
        "colab": {
          "base_uri": "https://localhost:8080/"
        },
        "id": "JDfkBBjOR9Jh",
        "outputId": "922f317f-a780-4eab-ad32-630b816feb50"
      },
      "outputs": [],
      "source": [
        "print(labels)"
      ]
    },
    {
      "cell_type": "code",
      "execution_count": null,
      "metadata": {
        "id": "vbaxVxKhSEJB"
      },
      "outputs": [],
      "source": [
        "data = {\n",
        " \"Point\": [f\"x{i+1}\" for i in range(100)],\n",
        " \"Value\": values,\n",
        " \"Label\": labels\n",
        "}"
      ]
    },
    {
      "cell_type": "code",
      "execution_count": null,
      "metadata": {
        "colab": {
          "base_uri": "https://localhost:8080/",
          "height": 206
        },
        "id": "IMdMSK32SG_C",
        "outputId": "6a04ac91-c3d2-4348-d3da-c20a95d9c5e6"
      },
      "outputs": [],
      "source": [
        "df = pd.DataFrame(data)\n",
        "df.head()"
      ]
    },
    {
      "cell_type": "code",
      "execution_count": null,
      "metadata": {
        "colab": {
          "base_uri": "https://localhost:8080/"
        },
        "id": "zngjtPp1SNBR",
        "outputId": "06e10ae5-7690-41b9-e517-4d8cfd0207a4"
      },
      "outputs": [],
      "source": [
        "# Table of Meaning of Each Variable\n",
        "variable_meaning = {\n",
        " \"Point\": \"The point number\",\n",
        " \"Value\": \"The value of the point\",\n",
        " \"Label\": \"The class of the point\"\n",
        "}\n",
        "variable_df = pd.DataFrame(list(variable_meaning.items()), columns=[\"Feature\", \"Descrpition\"])\n",
        "print(\"\\nVariable Meaning Table:\")\n",
        "print(variable_df)"
      ]
    },
    {
      "cell_type": "code",
      "execution_count": null,
      "metadata": {
        "colab": {
          "base_uri": "https://localhost:8080/",
          "height": 178
        },
        "id": "N3mm7vuaSWfY",
        "outputId": "f88fb22b-f51b-4b20-e5ae-3bc0a6f33de1"
      },
      "outputs": [],
      "source": [
        "df.nunique()"
      ]
    },
    {
      "cell_type": "code",
      "execution_count": null,
      "metadata": {
        "colab": {
          "base_uri": "https://localhost:8080/"
        },
        "id": "93-Zx9AkSaBA",
        "outputId": "e5ede600-4ba0-4769-ffc0-1d905dfe8dca"
      },
      "outputs": [],
      "source": [
        "df.shape"
      ]
    },
    {
      "cell_type": "code",
      "execution_count": null,
      "metadata": {
        "colab": {
          "base_uri": "https://localhost:8080/",
          "height": 756
        },
        "id": "JZCuA3PeScMw",
        "outputId": "0b6de5eb-d70e-4d0e-ef33-80a5d9092854"
      },
      "outputs": [],
      "source": [
        "# Get numeric columns\n",
        "num_col = df.select_dtypes(include=['int', 'float']).columns\n",
        "# Histograms for distribution of features\n",
        "df[num_col].hist(figsize=(12, 8), bins=30, edgecolor='black')\n",
        "# Title and labels\n",
        "plt.suptitle(\"Feature Distributions\", fontsize=16)\n",
        "plt.show()"
      ]
    },
    {
      "cell_type": "code",
      "execution_count": null,
      "metadata": {
        "id": "rEVGBQLISkAI"
      },
      "outputs": [],
      "source": [
        "# Split data into labeled and unlabeled\n",
        "labeled_df = df[df[\"Label\"].notna()]\n",
        "X_train = labeled_df[[\"Value\"]]\n",
        "y_train = labeled_df[\"Label\"]"
      ]
    },
    {
      "cell_type": "code",
      "execution_count": null,
      "metadata": {
        "id": "Kr8hSfcSSnS5"
      },
      "outputs": [],
      "source": [
        "unlabeled_df = df[df[\"Label\"].isna()]\n",
        "X_test = unlabeled_df[[\"Value\"]]"
      ]
    },
    {
      "cell_type": "code",
      "execution_count": null,
      "metadata": {
        "id": "2cQHXHdrSp7p"
      },
      "outputs": [],
      "source": [
        "true_labels = [\"Class1\" if x <= 0.5 else \"Class2\" for x in values[50:]]"
      ]
    },
    {
      "cell_type": "code",
      "execution_count": null,
      "metadata": {
        "id": "krtgpoJBSsyA"
      },
      "outputs": [],
      "source": [
        "k_values = [1, 2, 3, 4, 5, 20, 30]\n",
        "results = {}\n",
        "accuracies = {}"
      ]
    },
    {
      "cell_type": "code",
      "execution_count": null,
      "metadata": {
        "colab": {
          "base_uri": "https://localhost:8080/"
        },
        "id": "H1Lar3aaSvAA",
        "outputId": "e9a61591-5c6b-4af7-b8a1-a1f496e55ae5"
      },
      "outputs": [],
      "source": [
        "for k in k_values:\n",
        " knn = KNeighborsClassifier(n_neighbors=k)\n",
        " knn.fit(X_train, y_train)\n",
        " predictions = knn.predict(X_test)\n",
        " results[k] = predictions\n",
        "\n",
        " # Calculate accuracy\n",
        " accuracy = accuracy_score(true_labels, predictions) * 100\n",
        " accuracies[k] = accuracy\n",
        " print(f\"Accuracy for k={k}: {accuracy:.2f}%\")\n",
        " # Assign predictions back to the DataFrame for this k\n",
        " unlabeled_df[f\"Label_k{k}\"] = predictions"
      ]
    },
    {
      "cell_type": "code",
      "execution_count": null,
      "metadata": {},
      "outputs": [],
      "source": [
        "print(predictions)"
      ]
    },
    {
      "cell_type": "code",
      "execution_count": null,
      "metadata": {
        "colab": {
          "base_uri": "https://localhost:8080/",
          "height": 1561
        },
        "id": "qiVGlH9wSyXI",
        "outputId": "eab6799c-ebc1-41a1-8b8a-8c63ffacadac"
      },
      "outputs": [],
      "source": [
        "df1 = unlabeled_df.drop(columns=['Label'], axis=1)\n",
        "df1"
      ]
    },
    {
      "cell_type": "code",
      "execution_count": null,
      "metadata": {},
      "outputs": [],
      "source": [
        "print(\"\\nAccuracies for different k values:\")\n",
        "for k, acc in accuracies.items():\n",
        "    print(f\"k={k}: {acc:.2f}%\")"
      ]
    }
  ],
  "metadata": {
    "colab": {
      "provenance": []
    },
    "kernelspec": {
      "display_name": "Python 3",
      "name": "python3"
    },
    "language_info": {
      "codemirror_mode": {
        "name": "ipython",
        "version": 3
      },
      "file_extension": ".py",
      "mimetype": "text/x-python",
      "name": "python",
      "nbconvert_exporter": "python",
      "pygments_lexer": "ipython3",
      "version": "3.12.7"
    }
  },
  "nbformat": 4,
  "nbformat_minor": 0
}
